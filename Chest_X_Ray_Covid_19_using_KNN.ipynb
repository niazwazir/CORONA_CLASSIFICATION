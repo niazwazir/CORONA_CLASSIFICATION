{
  "nbformat": 4,
  "nbformat_minor": 0,
  "metadata": {
    "colab": {
      "name": "Chest X Ray Covid 19 using KNN.ipynb",
      "provenance": [],
      "collapsed_sections": []
    },
    "kernelspec": {
      "name": "python3",
      "display_name": "Python 3"
    },
    "accelerator": "GPU"
  },
  "cells": [
    {
      "cell_type": "code",
      "metadata": {
        "id": "dWD4eInlc_Rx",
        "colab_type": "code",
        "colab": {}
      },
      "source": [
        "import os\n",
        "os.chdir('Covid 19 Project')"
      ],
      "execution_count": null,
      "outputs": []
    },
    {
      "cell_type": "code",
      "metadata": {
        "id": "5rhGyanU0WgE",
        "colab_type": "code",
        "colab": {}
      },
      "source": [
        "# Importing the Libraries\n",
        "import numpy as np\n",
        "import pandas as pd\n",
        "import os\n",
        "import cv2\n",
        "from sklearn.metrics import confusion_matrix\n",
        "import seaborn as sns\n",
        "from keras.preprocessing.image import ImageDataGenerator\n",
        "from keras.applications import MobileNet,VGG16,DenseNet121,ResNet152,InceptionResNetV2,InceptionV3,VGG19,ResNet50\n",
        "from keras.applications.mobilenet import preprocess_input\n",
        "# from keras.applications.resnet50 import preprocess_input\n",
        "\n",
        "from lightgbm import LGBMClassifier\n",
        "import matplotlib.pyplot as plt\n",
        "from sklearn.model_selection import GridSearchCV\n",
        "from sklearn.ensemble import RandomForestClassifier\n",
        "from sklearn.metrics import accuracy_score,classification_report,roc_curve,auc\n",
        "# from mlxtend.evaluate import confusion_matrix\n",
        "# from mlxtend.plotting import plot_confusion_matrix\n",
        "\n",
        "import xgboost as xgb\n",
        "from catboost import CatBoostClassifier\n",
        "from sklearn.svm import SVC\n",
        "from sklearn.ensemble import AdaBoostClassifier\n",
        "from sklearn.tree import DecisionTreeClassifier\n",
        "from sklearn.neighbors import KNeighborsClassifier\n",
        "from sklearn.model_selection import cross_val_score,KFold\n",
        "import tensorflow as tf"
      ],
      "execution_count": null,
      "outputs": []
    },
    {
      "cell_type": "code",
      "metadata": {
        "id": "_u2uJaDZkXnu",
        "colab_type": "code",
        "colab": {
          "base_uri": "https://localhost:8080/",
          "height": 272
        },
        "outputId": "903d2c3d-fe51-440a-cf9f-8528a18021dc"
      },
      "source": [
        "!pip install catboost"
      ],
      "execution_count": null,
      "outputs": [
        {
          "output_type": "stream",
          "text": [
            "Requirement already satisfied: catboost in /usr/local/lib/python3.6/dist-packages (0.23.2)\n",
            "Requirement already satisfied: graphviz in /usr/local/lib/python3.6/dist-packages (from catboost) (0.10.1)\n",
            "Requirement already satisfied: pandas>=0.24.0 in /usr/local/lib/python3.6/dist-packages (from catboost) (1.0.4)\n",
            "Requirement already satisfied: scipy in /usr/local/lib/python3.6/dist-packages (from catboost) (1.4.1)\n",
            "Requirement already satisfied: numpy>=1.16.0 in /usr/local/lib/python3.6/dist-packages (from catboost) (1.18.5)\n",
            "Requirement already satisfied: matplotlib in /usr/local/lib/python3.6/dist-packages (from catboost) (3.2.1)\n",
            "Requirement already satisfied: six in /usr/local/lib/python3.6/dist-packages (from catboost) (1.12.0)\n",
            "Requirement already satisfied: plotly in /usr/local/lib/python3.6/dist-packages (from catboost) (4.4.1)\n",
            "Requirement already satisfied: pytz>=2017.2 in /usr/local/lib/python3.6/dist-packages (from pandas>=0.24.0->catboost) (2018.9)\n",
            "Requirement already satisfied: python-dateutil>=2.6.1 in /usr/local/lib/python3.6/dist-packages (from pandas>=0.24.0->catboost) (2.8.1)\n",
            "Requirement already satisfied: kiwisolver>=1.0.1 in /usr/local/lib/python3.6/dist-packages (from matplotlib->catboost) (1.2.0)\n",
            "Requirement already satisfied: cycler>=0.10 in /usr/local/lib/python3.6/dist-packages (from matplotlib->catboost) (0.10.0)\n",
            "Requirement already satisfied: pyparsing!=2.0.4,!=2.1.2,!=2.1.6,>=2.0.1 in /usr/local/lib/python3.6/dist-packages (from matplotlib->catboost) (2.4.7)\n",
            "Requirement already satisfied: retrying>=1.3.3 in /usr/local/lib/python3.6/dist-packages (from plotly->catboost) (1.3.3)\n"
          ],
          "name": "stdout"
        }
      ]
    },
    {
      "cell_type": "code",
      "metadata": {
        "id": "rbUhsR4eowc0",
        "colab_type": "code",
        "colab": {}
      },
      "source": [
        "# Loading Training Images\n",
        "normal_images=os.listdir(os.path.join('Training Dataset','normal'))\n",
        "covid_images=os.listdir(os.path.join('Training Dataset','covid'))"
      ],
      "execution_count": null,
      "outputs": []
    },
    {
      "cell_type": "code",
      "metadata": {
        "id": "Xf7ZcSO7qg1x",
        "colab_type": "code",
        "colab": {}
      },
      "source": [
        "# Empty DataFrame\n",
        "normal_image_df=pd.DataFrame()\n",
        "covid_image_df=pd.DataFrame()"
      ],
      "execution_count": null,
      "outputs": []
    },
    {
      "cell_type": "code",
      "metadata": {
        "id": "e935BJoGqqDj",
        "colab_type": "code",
        "colab": {}
      },
      "source": [
        "normal_image_df['ID']=normal_images\n",
        "normal_image_df['label']='normal'"
      ],
      "execution_count": null,
      "outputs": []
    },
    {
      "cell_type": "code",
      "metadata": {
        "id": "vPZasdI8jZBh",
        "colab_type": "code",
        "colab": {}
      },
      "source": [
        "covid_image_df['ID']=covid_images\n",
        "covid_image_df['label']='covid'"
      ],
      "execution_count": null,
      "outputs": []
    },
    {
      "cell_type": "code",
      "metadata": {
        "id": "VzIgjGS4jj-E",
        "colab_type": "code",
        "colab": {
          "base_uri": "https://localhost:8080/",
          "height": 402
        },
        "outputId": "a0b02f06-d6b9-4d04-9689-cdf72a924242"
      },
      "source": [
        "covid_image_df"
      ],
      "execution_count": null,
      "outputs": [
        {
          "output_type": "execute_result",
          "data": {
            "text/html": [
              "<div>\n",
              "<style scoped>\n",
              "    .dataframe tbody tr th:only-of-type {\n",
              "        vertical-align: middle;\n",
              "    }\n",
              "\n",
              "    .dataframe tbody tr th {\n",
              "        vertical-align: top;\n",
              "    }\n",
              "\n",
              "    .dataframe thead th {\n",
              "        text-align: right;\n",
              "    }\n",
              "</style>\n",
              "<table border=\"1\" class=\"dataframe\">\n",
              "  <thead>\n",
              "    <tr style=\"text-align: right;\">\n",
              "      <th></th>\n",
              "      <th>ID</th>\n",
              "      <th>label</th>\n",
              "    </tr>\n",
              "  </thead>\n",
              "  <tbody>\n",
              "    <tr>\n",
              "      <th>0</th>\n",
              "      <td>ryct.2020003.fig2-a.png</td>\n",
              "      <td>covid</td>\n",
              "    </tr>\n",
              "    <tr>\n",
              "      <th>1</th>\n",
              "      <td>ryct.2020200028.fig1a.jpeg</td>\n",
              "      <td>covid</td>\n",
              "    </tr>\n",
              "    <tr>\n",
              "      <th>2</th>\n",
              "      <td>2C26F453-AF3B-4517-BB9E-802CF2179543.jpeg</td>\n",
              "      <td>covid</td>\n",
              "    </tr>\n",
              "    <tr>\n",
              "      <th>3</th>\n",
              "      <td>pneumocystis-jiroveci-pneumonia-4-L.png</td>\n",
              "      <td>covid</td>\n",
              "    </tr>\n",
              "    <tr>\n",
              "      <th>4</th>\n",
              "      <td>16708_4_1.jpg</td>\n",
              "      <td>covid</td>\n",
              "    </tr>\n",
              "    <tr>\n",
              "      <th>...</th>\n",
              "      <td>...</td>\n",
              "      <td>...</td>\n",
              "    </tr>\n",
              "    <tr>\n",
              "      <th>299</th>\n",
              "      <td>cavitating-pneumonia-4-day28-PA.png</td>\n",
              "      <td>covid</td>\n",
              "    </tr>\n",
              "    <tr>\n",
              "      <th>300</th>\n",
              "      <td>covid-19-pneumonia-progression-and-regression-...</td>\n",
              "      <td>covid</td>\n",
              "    </tr>\n",
              "    <tr>\n",
              "      <th>301</th>\n",
              "      <td>all14238-fig-0002-m-e.jpg</td>\n",
              "      <td>covid</td>\n",
              "    </tr>\n",
              "    <tr>\n",
              "      <th>302</th>\n",
              "      <td>5931B64A-7B97-485D-BE60-3F1EA76BC4F0.jpeg</td>\n",
              "      <td>covid</td>\n",
              "    </tr>\n",
              "    <tr>\n",
              "      <th>303</th>\n",
              "      <td>post-intubuation-pneumomediastium-and-pneumoth...</td>\n",
              "      <td>covid</td>\n",
              "    </tr>\n",
              "  </tbody>\n",
              "</table>\n",
              "<p>304 rows × 2 columns</p>\n",
              "</div>"
            ],
            "text/plain": [
              "                                                    ID  label\n",
              "0                              ryct.2020003.fig2-a.png  covid\n",
              "1                           ryct.2020200028.fig1a.jpeg  covid\n",
              "2            2C26F453-AF3B-4517-BB9E-802CF2179543.jpeg  covid\n",
              "3              pneumocystis-jiroveci-pneumonia-4-L.png  covid\n",
              "4                                        16708_4_1.jpg  covid\n",
              "..                                                 ...    ...\n",
              "299                cavitating-pneumonia-4-day28-PA.png  covid\n",
              "300  covid-19-pneumonia-progression-and-regression-...  covid\n",
              "301                          all14238-fig-0002-m-e.jpg  covid\n",
              "302          5931B64A-7B97-485D-BE60-3F1EA76BC4F0.jpeg  covid\n",
              "303  post-intubuation-pneumomediastium-and-pneumoth...  covid\n",
              "\n",
              "[304 rows x 2 columns]"
            ]
          },
          "metadata": {
            "tags": []
          },
          "execution_count": 10
        }
      ]
    },
    {
      "cell_type": "code",
      "metadata": {
        "id": "wKH-i2V2j0H8",
        "colab_type": "code",
        "colab": {}
      },
      "source": [
        "train_df=pd.concat([normal_image_df,covid_image_df],ignore_index=True)"
      ],
      "execution_count": null,
      "outputs": []
    },
    {
      "cell_type": "code",
      "metadata": {
        "id": "BN1zl_LMxOVJ",
        "colab_type": "code",
        "colab": {
          "base_uri": "https://localhost:8080/",
          "height": 343
        },
        "outputId": "e6b395cb-9e59-4672-fefd-222e546021e9"
      },
      "source": [
        "train_df.head(10)"
      ],
      "execution_count": null,
      "outputs": [
        {
          "output_type": "execute_result",
          "data": {
            "text/html": [
              "<div>\n",
              "<style scoped>\n",
              "    .dataframe tbody tr th:only-of-type {\n",
              "        vertical-align: middle;\n",
              "    }\n",
              "\n",
              "    .dataframe tbody tr th {\n",
              "        vertical-align: top;\n",
              "    }\n",
              "\n",
              "    .dataframe thead th {\n",
              "        text-align: right;\n",
              "    }\n",
              "</style>\n",
              "<table border=\"1\" class=\"dataframe\">\n",
              "  <thead>\n",
              "    <tr style=\"text-align: right;\">\n",
              "      <th></th>\n",
              "      <th>ID</th>\n",
              "      <th>label</th>\n",
              "    </tr>\n",
              "  </thead>\n",
              "  <tbody>\n",
              "    <tr>\n",
              "      <th>0</th>\n",
              "      <td>NORMAL2-IM-1196-0001.jpeg</td>\n",
              "      <td>normal</td>\n",
              "    </tr>\n",
              "    <tr>\n",
              "      <th>1</th>\n",
              "      <td>NORMAL2-IM-0808-0001.jpeg</td>\n",
              "      <td>normal</td>\n",
              "    </tr>\n",
              "    <tr>\n",
              "      <th>2</th>\n",
              "      <td>IM-0429-0001-0002.jpeg</td>\n",
              "      <td>normal</td>\n",
              "    </tr>\n",
              "    <tr>\n",
              "      <th>3</th>\n",
              "      <td>NORMAL2-IM-0689-0001.jpeg</td>\n",
              "      <td>normal</td>\n",
              "    </tr>\n",
              "    <tr>\n",
              "      <th>4</th>\n",
              "      <td>NORMAL2-IM-0979-0001.jpeg</td>\n",
              "      <td>normal</td>\n",
              "    </tr>\n",
              "    <tr>\n",
              "      <th>5</th>\n",
              "      <td>NORMAL2-IM-1184-0001.jpeg</td>\n",
              "      <td>normal</td>\n",
              "    </tr>\n",
              "    <tr>\n",
              "      <th>6</th>\n",
              "      <td>IM-0668-0001.jpeg</td>\n",
              "      <td>normal</td>\n",
              "    </tr>\n",
              "    <tr>\n",
              "      <th>7</th>\n",
              "      <td>NORMAL2-IM-0401-0001.jpeg</td>\n",
              "      <td>normal</td>\n",
              "    </tr>\n",
              "    <tr>\n",
              "      <th>8</th>\n",
              "      <td>IM-0656-0001.jpeg</td>\n",
              "      <td>normal</td>\n",
              "    </tr>\n",
              "    <tr>\n",
              "      <th>9</th>\n",
              "      <td>NORMAL2-IM-0596-0001.jpeg</td>\n",
              "      <td>normal</td>\n",
              "    </tr>\n",
              "  </tbody>\n",
              "</table>\n",
              "</div>"
            ],
            "text/plain": [
              "                          ID   label\n",
              "0  NORMAL2-IM-1196-0001.jpeg  normal\n",
              "1  NORMAL2-IM-0808-0001.jpeg  normal\n",
              "2     IM-0429-0001-0002.jpeg  normal\n",
              "3  NORMAL2-IM-0689-0001.jpeg  normal\n",
              "4  NORMAL2-IM-0979-0001.jpeg  normal\n",
              "5  NORMAL2-IM-1184-0001.jpeg  normal\n",
              "6          IM-0668-0001.jpeg  normal\n",
              "7  NORMAL2-IM-0401-0001.jpeg  normal\n",
              "8          IM-0656-0001.jpeg  normal\n",
              "9  NORMAL2-IM-0596-0001.jpeg  normal"
            ]
          },
          "metadata": {
            "tags": []
          },
          "execution_count": 12
        }
      ]
    },
    {
      "cell_type": "code",
      "metadata": {
        "id": "zPjMJq19M0-r",
        "colab_type": "code",
        "colab": {
          "base_uri": "https://localhost:8080/",
          "height": 34
        },
        "outputId": "8e3543bd-13fd-4d96-a9d5-59113a2cd4af"
      },
      "source": [
        "len(train_df)"
      ],
      "execution_count": null,
      "outputs": [
        {
          "output_type": "execute_result",
          "data": {
            "text/plain": [
              "608"
            ]
          },
          "metadata": {
            "tags": []
          },
          "execution_count": 13
        }
      ]
    },
    {
      "cell_type": "code",
      "metadata": {
        "id": "uxaa79iwmVf2",
        "colab_type": "code",
        "colab": {}
      },
      "source": [
        "# Loading Train Images\n",
        "train_images = []\n",
        "train_labels=[]\n",
        "for img_name,label in zip(train_df.ID,train_df.label):\n",
        "  if label=='normal':\n",
        "      img = cv2.imread(os.path.join('Training Dataset/normal',img_name))\n",
        "      img=cv2.resize(img,(224,224))\n",
        "      if img is not None:\n",
        "          train_images.append(img)\n",
        "          train_labels.append('normal')\n",
        "  else:\n",
        "      img=cv2.imread(os.path.join('Training Dataset/covid',img_name))\n",
        "      img=cv2.resize(img,(224,224))\n",
        "      if img is not None:\n",
        "        train_images.append(img)\n",
        "        train_labels.append('covid')\n"
      ],
      "execution_count": null,
      "outputs": []
    },
    {
      "cell_type": "code",
      "metadata": {
        "id": "7BGY6a5HyyIR",
        "colab_type": "code",
        "colab": {
          "base_uri": "https://localhost:8080/",
          "height": 34
        },
        "outputId": "19c88069-9065-4e07-be7b-8323941f49b5"
      },
      "source": [
        "len(train_images)"
      ],
      "execution_count": null,
      "outputs": [
        {
          "output_type": "execute_result",
          "data": {
            "text/plain": [
              "608"
            ]
          },
          "metadata": {
            "tags": []
          },
          "execution_count": 15
        }
      ]
    },
    {
      "cell_type": "code",
      "metadata": {
        "id": "jZyQC_uMr8gp",
        "colab_type": "code",
        "colab": {}
      },
      "source": [
        "# Loading Testing Images\n",
        "test_normal_images=os.listdir(os.path.join('Testing Dataset/normal'))\n",
        "test_covid_images=os.listdir(os.path.join('Testing Dataset/covid'))"
      ],
      "execution_count": null,
      "outputs": []
    },
    {
      "cell_type": "code",
      "metadata": {
        "id": "foK8stKizgU9",
        "colab_type": "code",
        "colab": {
          "base_uri": "https://localhost:8080/",
          "height": 34
        },
        "outputId": "863fb7d0-5db0-42df-877a-ca40ddef94e3"
      },
      "source": [
        "len(test_covid_images)"
      ],
      "execution_count": null,
      "outputs": [
        {
          "output_type": "execute_result",
          "data": {
            "text/plain": [
              "549"
            ]
          },
          "metadata": {
            "tags": []
          },
          "execution_count": 17
        }
      ]
    },
    {
      "cell_type": "code",
      "metadata": {
        "id": "e_X-H6TquJHj",
        "colab_type": "code",
        "colab": {}
      },
      "source": [
        "# Empty DataFrame\n",
        "test_normal_image_df=pd.DataFrame()\n",
        "test_covid_image_df=pd.DataFrame()"
      ],
      "execution_count": null,
      "outputs": []
    },
    {
      "cell_type": "code",
      "metadata": {
        "id": "mmI-2asLs-H7",
        "colab_type": "code",
        "colab": {}
      },
      "source": [
        "test_normal_image_df['ID']=test_normal_images\n",
        "test_normal_image_df['label']='normal'"
      ],
      "execution_count": null,
      "outputs": []
    },
    {
      "cell_type": "code",
      "metadata": {
        "id": "n6yFM2PvtrER",
        "colab_type": "code",
        "colab": {}
      },
      "source": [
        "test_covid_image_df['ID']=test_covid_images\n",
        "test_covid_image_df['label']='covid'"
      ],
      "execution_count": null,
      "outputs": []
    },
    {
      "cell_type": "code",
      "metadata": {
        "id": "3VDj1bQGtYmS",
        "colab_type": "code",
        "colab": {}
      },
      "source": [
        "test_df=pd.concat([test_normal_image_df,test_covid_image_df],ignore_index=True)"
      ],
      "execution_count": null,
      "outputs": []
    },
    {
      "cell_type": "code",
      "metadata": {
        "id": "4jbxH06RwY4j",
        "colab_type": "code",
        "colab": {
          "base_uri": "https://localhost:8080/",
          "height": 34
        },
        "outputId": "4a16f5fe-7284-48ab-c9d8-8332da0196c2"
      },
      "source": [
        "len(test_df)"
      ],
      "execution_count": null,
      "outputs": [
        {
          "output_type": "execute_result",
          "data": {
            "text/plain": [
              "783"
            ]
          },
          "metadata": {
            "tags": []
          },
          "execution_count": 22
        }
      ]
    },
    {
      "cell_type": "code",
      "metadata": {
        "id": "IBADDDAGunKn",
        "colab_type": "code",
        "colab": {
          "base_uri": "https://localhost:8080/",
          "height": 34
        },
        "outputId": "32b5a76d-014c-4ca8-9eec-4b68b8276867"
      },
      "source": [
        "len(list(set(test_normal_images)))"
      ],
      "execution_count": null,
      "outputs": [
        {
          "output_type": "execute_result",
          "data": {
            "text/plain": [
              "234"
            ]
          },
          "metadata": {
            "tags": []
          },
          "execution_count": 23
        }
      ]
    },
    {
      "cell_type": "code",
      "metadata": {
        "id": "xJwLkbDTsqWX",
        "colab_type": "code",
        "colab": {}
      },
      "source": [
        "# Loading Testing Images\n",
        "test_images = []\n",
        "test_labels=[]\n",
        "for img_name,label in zip(test_df.ID,test_df.label):\n",
        "  if label=='normal':\n",
        "        img = cv2.imread(os.path.join('Testing Dataset/normal',img_name))\n",
        "        img=cv2.resize(img,(224,224))\n",
        "        if img is not None:\n",
        "            test_images.append(img)\n",
        "            test_labels.append('normal')\n",
        "  else:\n",
        "      img=cv2.imread(os.path.join('Testing Dataset/covid',img_name))\n",
        "      img=cv2.resize(img,(224,224))\n",
        "      if img is not None:\n",
        "        test_images.append(img)\n",
        "        test_labels.append('covid')\n"
      ],
      "execution_count": null,
      "outputs": []
    },
    {
      "cell_type": "code",
      "metadata": {
        "id": "n40ijz9Y47Li",
        "colab_type": "code",
        "colab": {}
      },
      "source": [
        "train_images=np.array(train_images)\n",
        "test_images=np.array(test_images)"
      ],
      "execution_count": null,
      "outputs": []
    },
    {
      "cell_type": "code",
      "metadata": {
        "id": "rESSbcCmFUoT",
        "colab_type": "code",
        "colab": {}
      },
      "source": [
        "# # Normalizing Train and Test Images\n",
        "# train_images=train_images/255.\n",
        "# test_images=test_images/255."
      ],
      "execution_count": null,
      "outputs": []
    },
    {
      "cell_type": "code",
      "metadata": {
        "id": "a_iwBKWTFkvC",
        "colab_type": "code",
        "colab": {
          "base_uri": "https://localhost:8080/",
          "height": 34
        },
        "outputId": "3070d1c1-4826-4229-8f18-42e6306845e1"
      },
      "source": [
        "len(test_images)"
      ],
      "execution_count": null,
      "outputs": [
        {
          "output_type": "execute_result",
          "data": {
            "text/plain": [
              "783"
            ]
          },
          "metadata": {
            "tags": []
          },
          "execution_count": 27
        }
      ]
    },
    {
      "cell_type": "code",
      "metadata": {
        "id": "wTgWnhDE_tr4",
        "colab_type": "code",
        "colab": {
          "base_uri": "https://localhost:8080/",
          "height": 104
        },
        "outputId": "26f0aa07-c6d8-4ed1-f660-81e0912de653"
      },
      "source": [
        "# Feature Extraction for train\n",
        "model = MobileNet(weights='imagenet', include_top=False)\n",
        "# model = VGG16(weights='imagenet', include_top=False)\n",
        "# model = DenseNet121(weights='imagenet', include_top=False)\n",
        "# model = ResNet152(weights='imagenet', include_top=False)\n",
        "# model = InceptionResNetV2(weights='imagenet', include_top=False)\n",
        "# model = InceptionV3(weights='imagenet', include_top=False)\n",
        "# model = VGG19(weights='imagenet', include_top=False)\n",
        "\n",
        "model_feature_list = []\n",
        "\n",
        "for img in train_images:  \n",
        "    img_data = np.expand_dims(img, axis=0)\n",
        "    img_data = preprocess_input(img_data)\n",
        "\n",
        "    model_feature = model.predict(img_data)\n",
        "    model_feature_np = np.array(model_feature)\n",
        "    model_feature_list.append(model_feature_np.flatten())\n",
        "\n",
        "train_x = np.array(model_feature_list)"
      ],
      "execution_count": null,
      "outputs": [
        {
          "output_type": "stream",
          "text": [
            "/usr/local/lib/python3.6/dist-packages/keras_applications/mobilenet.py:207: UserWarning: `input_shape` is undefined or non-square, or `rows` is not in [128, 160, 192, 224]. Weights for input shape (224, 224) will be loaded as the default.\n",
            "  warnings.warn('`input_shape` is undefined or non-square, '\n"
          ],
          "name": "stderr"
        },
        {
          "output_type": "stream",
          "text": [
            "Downloading data from https://github.com/fchollet/deep-learning-models/releases/download/v0.6/mobilenet_1_0_224_tf_no_top.h5\n",
            "17227776/17225924 [==============================] - 1s 0us/step\n"
          ],
          "name": "stdout"
        }
      ]
    },
    {
      "cell_type": "code",
      "metadata": {
        "id": "P9r2LW3QNhhk",
        "colab_type": "code",
        "colab": {
          "base_uri": "https://localhost:8080/",
          "height": 70
        },
        "outputId": "ebe5618d-be56-48cc-c877-a0eb23d1bad6"
      },
      "source": [
        "# Feature Extraction for test\n",
        "model = MobileNet(weights='imagenet', include_top=False)\n",
        "# model = VGG16(weights='imagenet', include_top=False)\n",
        "# model = DenseNet121(weights='imagenet', include_top=False)\n",
        "# model = ResNet152(weights='imagenet', include_top=False)\n",
        "# model = InceptionResNetV2(weights='imagenet', include_top=False)\n",
        "# model = InceptionV3(weights='imagenet', include_top=False)\n",
        "# model = VGG19(weights='imagenet', include_top=False)\n",
        "model_feature_list = []\n",
        "\n",
        "for img in test_images:  \n",
        "    img_data = np.expand_dims(img, axis=0)\n",
        "    img_data = preprocess_input(img_data)\n",
        "\n",
        "    model_feature = model.predict(img_data)\n",
        "    model_feature_np = np.array(model_feature)\n",
        "    model_feature_list.append(model_feature_np.flatten())\n",
        "\n",
        "test_x = np.array(model_feature_list)"
      ],
      "execution_count": null,
      "outputs": [
        {
          "output_type": "stream",
          "text": [
            "/usr/local/lib/python3.6/dist-packages/keras_applications/mobilenet.py:207: UserWarning: `input_shape` is undefined or non-square, or `rows` is not in [128, 160, 192, 224]. Weights for input shape (224, 224) will be loaded as the default.\n",
            "  warnings.warn('`input_shape` is undefined or non-square, '\n"
          ],
          "name": "stderr"
        }
      ]
    },
    {
      "cell_type": "code",
      "metadata": {
        "id": "I8JL00UZGOnh",
        "colab_type": "code",
        "colab": {}
      },
      "source": [
        "# Label Encoding\n",
        "train_y=pd.Series(train_labels)\n",
        "label_encode={'normal':0,'covid':1}\n",
        "train_y=train_y.replace(label_encode)\n",
        "test_y=pd.Series(test_labels)\n",
        "test_y=test_y.replace(label_encode)\n",
        "train_y=train_y.astype('category')\n",
        "test_y=test_y.astype('category')"
      ],
      "execution_count": null,
      "outputs": []
    },
    {
      "cell_type": "code",
      "metadata": {
        "id": "zUYgisBCGwb8",
        "colab_type": "code",
        "colab": {
          "base_uri": "https://localhost:8080/",
          "height": 292
        },
        "outputId": "aa9714c7-343e-49f1-db83-fd07c049ca72"
      },
      "source": [
        "# Count Bar Plot Train\n",
        "train_y.value_counts().plot(kind='bar')\n",
        "plt.plot()\n",
        "plt.title('Train Count Bar Plot')\n",
        "plt.xlabel('Image Label')\n",
        "plt.ylabel('Image Count')\n",
        "plt.show()\n"
      ],
      "execution_count": null,
      "outputs": [
        {
          "output_type": "display_data",
          "data": {
            "image/png": "[encoded data removed]",
            "text/plain": [
              "<Figure size 432x288 with 1 Axes>"
            ]
          },
          "metadata": {
            "tags": [],
            "needs_background": "light"
          }
        }
      ]
    },
    {
      "cell_type": "code",
      "metadata": {
        "id": "XOekxdu6LMeb",
        "colab_type": "code",
        "colab": {
          "base_uri": "https://localhost:8080/",
          "height": 292
        },
        "outputId": "f3d28970-5203-4ab1-90ed-436767c37a54"
      },
      "source": [
        "# Count Bar Plot on Test Data\n",
        "test_y.value_counts().plot(kind='bar')\n",
        "plt.plot()\n",
        "plt.title('Test Count Bar Plot')\n",
        "plt.xlabel('Image Label')\n",
        "plt.ylabel('Image Count')\n",
        "plt.show()"
      ],
      "execution_count": null,
      "outputs": [
        {
          "output_type": "display_data",
          "data": {
            "image/png": "[encoded data removed]",
            "text/plain": [
              "<Figure size 432x288 with 1 Axes>"
            ]
          },
          "metadata": {
            "tags": [],
            "needs_background": "light"
          }
        }
      ]
    },
    {
      "cell_type": "code",
      "metadata": {
        "id": "GnnurkCwLOgh",
        "colab_type": "code",
        "colab": {
          "base_uri": "https://localhost:8080/",
          "height": 34
        },
        "outputId": "dbceb7a1-4e12-4a97-cb98-a19486f93021"
      },
      "source": [
        "test_y.dtype"
      ],
      "execution_count": null,
      "outputs": [
        {
          "output_type": "execute_result",
          "data": {
            "text/plain": [
              "CategoricalDtype(categories=[0, 1], ordered=False)"
            ]
          },
          "metadata": {
            "tags": []
          },
          "execution_count": 33
        }
      ]
    },
    {
      "cell_type": "code",
      "metadata": {
        "id": "IUkTgpfRFjkt",
        "colab_type": "code",
        "colab": {
          "base_uri": "https://localhost:8080/",
          "height": 67
        },
        "outputId": "e4d656c8-7b3d-40da-c40a-f58ccf4c12fa"
      },
      "source": [
        "# Fitting the Classifier\n",
        "# classifier=SVC(kernel='rbf',C=0.5)\n",
        "# classifier.fit(train_x,train_y)\n",
        "\n",
        "\n",
        "# classifier=RandomForestClassifier(n_estimators=400,max_depth=7)\n",
        "# classifier.fit(train_x,train_y)\n",
        "\n",
        "# model = CatBoostClassifier(iterations=1500, learning_rate=0.01, l2_leaf_reg=3.5, depth=8, rsm=0.98, loss_function= 'Logloss', eval_metric='Accuracy',use_best_model=True,random_seed=42,gpu_ram_part=0.3,gpu_cat_features_storage='CpuPinnedMemory')\n",
        "# model.fit(train_x,train_y,eval_set=(test_x,test_y))\n",
        "# classifier = xgb.XGBClassifier(objective=\"binary:logistic\", random_state=42,n_estimators=1000)\n",
        "# classifier.fit(train_x,train_y)\n",
        "# classifier = AdaBoostClassifier(DecisionTreeClassifier(max_depth=1))\n",
        "# classifier= LGBMClassifier(boosting_type='gbdt',objective='binary',metric='accuracy')\n",
        "classifier=KNeighborsClassifier(n_neighbors=120,p=2)\n",
        "classifier.fit(train_x,train_y)\n"
      ],
      "execution_count": null,
      "outputs": [
        {
          "output_type": "execute_result",
          "data": {
            "text/plain": [
              "KNeighborsClassifier(algorithm='auto', leaf_size=30, metric='minkowski',\n",
              "                     metric_params=None, n_jobs=None, n_neighbors=120, p=2,\n",
              "                     weights='uniform')"
            ]
          },
          "metadata": {
            "tags": []
          },
          "execution_count": 107
        }
      ]
    },
    {
      "cell_type": "code",
      "metadata": {
        "id": "UKUHV7jNg1dW",
        "colab_type": "code",
        "colab": {}
      },
      "source": [
        "# # n_neighbors selection\n",
        "# neighbors = list(range(1,20))\n",
        "# train_results = []\n",
        "# test_results = []\n",
        "# for n in neighbors:\n",
        "#    model = KNeighborsClassifier(n_neighbors=n)\n",
        "#    model.fit(train_x, train_y)\n",
        "#    train_pred = model.predict(train_x)\n",
        "#    false_positive_rate, true_positive_rate, thresholds = roc_curve(train_y, train_pred)\n",
        "#    roc_auc = auc(false_positive_rate, true_positive_rate)\n",
        "#    train_results.append(roc_auc)\n",
        "#    y_pred = model.predict(test_x)\n",
        "#    false_positive_rate, true_positive_rate, thresholds = roc_curve(test_y, y_pred)\n",
        "#    roc_auc = auc(false_positive_rate, true_positive_rate)\n",
        "#    test_results.append(roc_auc)\n",
        "# from matplotlib.legend_handler import HandlerLine2D\n",
        "# line1, = plt.plot(neighbors, train_results, 'b', label='Train AUC')\n",
        "# line2, = plt.plot(neighbors, test_results, 'r', label='Test AUC')\n",
        "# plt.legend(handler_map={line1: HandlerLine2D(numpoints=2)})\n",
        "# plt.ylabel('AUC score')\n",
        "# plt.xlabel('n_neighbors')\n",
        "# plt.show()"
      ],
      "execution_count": null,
      "outputs": []
    },
    {
      "cell_type": "code",
      "metadata": {
        "id": "YmfEMvPWhmaI",
        "colab_type": "code",
        "colab": {}
      },
      "source": [
        "neighbors = list(range(1,200))"
      ],
      "execution_count": null,
      "outputs": []
    },
    {
      "cell_type": "code",
      "metadata": {
        "id": "dxWOH9V7hq9d",
        "colab_type": "code",
        "colab": {}
      },
      "source": [
        "neighbors"
      ],
      "execution_count": null,
      "outputs": []
    },
    {
      "cell_type": "code",
      "metadata": {
        "id": "64JWZf1Pk4Ab",
        "colab_type": "code",
        "colab": {}
      },
      "source": [
        "# # Hyperparameter Tuning\n",
        "# param_grid = {'n_neighbors':[80,90,120,200]}\n",
        "# grid=GridSearchCV(estimator=KNeighborsClassifier(),cv=5,param_grid=param_grid)\n",
        "# grid.fit(train_x,train_y)  "
      ],
      "execution_count": null,
      "outputs": []
    },
    {
      "cell_type": "code",
      "metadata": {
        "id": "ari9SWpQl8Pp",
        "colab_type": "code",
        "colab": {}
      },
      "source": [
        "# print('Best Parameters',grid.best_params_)"
      ],
      "execution_count": null,
      "outputs": []
    },
    {
      "cell_type": "code",
      "metadata": {
        "id": "2I-eQWHvAWGo",
        "colab_type": "code",
        "colab": {}
      },
      "source": [
        "# Predicting the Train Set Results\n",
        "y_pred_train=classifier.predict(train_x)"
      ],
      "execution_count": null,
      "outputs": []
    },
    {
      "cell_type": "code",
      "metadata": {
        "id": "OCXPyjikI-ua",
        "colab_type": "code",
        "colab": {}
      },
      "source": [
        "# # Reshaping the Test Data\n",
        "# test_x=np.reshape(test_images, (test_images.shape[0], -1))"
      ],
      "execution_count": null,
      "outputs": []
    },
    {
      "cell_type": "code",
      "metadata": {
        "id": "sNIfGX0qJPyi",
        "colab_type": "code",
        "colab": {}
      },
      "source": [
        "# test_x.shape"
      ],
      "execution_count": null,
      "outputs": []
    },
    {
      "cell_type": "code",
      "metadata": {
        "id": "J6tWPLltC4to",
        "colab_type": "code",
        "colab": {}
      },
      "source": [
        "# Predicting the Test Set Results\n",
        "y_pred_test=classifier.predict(test_x)"
      ],
      "execution_count": null,
      "outputs": []
    },
    {
      "cell_type": "code",
      "metadata": {
        "id": "vO558jWarZaj",
        "colab_type": "code",
        "colab": {
          "base_uri": "https://localhost:8080/",
          "height": 50
        },
        "outputId": "76761eb4-3d1a-4192-e656-1c7a69420c0a"
      },
      "source": [
        "#Checking the Accuracy\n",
        "\n",
        "print(\"Training Accuracy is:\",accuracy_score(train_y,y_pred_train))\n",
        "\n",
        "print(\"Testing Accuracy is:\",accuracy_score(test_y,y_pred_test))"
      ],
      "execution_count": null,
      "outputs": [
        {
          "output_type": "stream",
          "text": [
            "Training Accuracy is: 0.9917763157894737\n",
            "Testing Accuracy is: 0.9910600255427842\n"
          ],
          "name": "stdout"
        }
      ]
    },
    {
      "cell_type": "code",
      "metadata": {
        "id": "6zLLaItwIAPF",
        "colab_type": "code",
        "colab": {
          "base_uri": "https://localhost:8080/",
          "height": 312
        },
        "outputId": "360035c2-12a4-4fa9-d1f9-b32f16fdcbf0"
      },
      "source": [
        "# Confusion Matrix for training data\n",
        "\n",
        "cm=confusion_matrix(train_y, y_pred_train,labels=[1,0])\n",
        "ax= plt.subplot()\n",
        "sns.heatmap(cm, annot=True, ax = ax,fmt='g')\n",
        "# labels, title and ticks\n",
        "ax.set_xlabel('Predicted labels')\n",
        "ax.set_ylabel('True labels') \n",
        "ax.set_title('Confusion Matrix') \n",
        "ax.xaxis.set_ticklabels(['Covid', 'Normal'])\n",
        "ax.yaxis.set_ticklabels(['Covid','Normal'])\n",
        "\n",
        "# cm=confusion_matrix(y_target=train_y,y_predicted=y_pred_train)\n",
        "# fig,ax=plot_confusion_matrix(conf_mat=cm,cmap='Dark2',colorbar=True)\n",
        "# labels=['normal','covid']\n",
        "# ax.set_xticklabels([''] + labels)\n",
        "# ax.set_yticklabels([''] + labels)\n",
        "\n",
        "# plt.title('Confusion Matrix')\n",
        "\n",
        "# plt.show()\n"
      ],
      "execution_count": null,
      "outputs": [
        {
          "output_type": "execute_result",
          "data": {
            "text/plain": [
              "[Text(0, 0.5, 'Covid'), Text(0, 1.5, 'Normal')]"
            ]
          },
          "metadata": {
            "tags": []
          },
          "execution_count": 111
        },
        {
          "output_type": "display_data",
          "data": {
            "image/png": "[encoded data removed]",
            "text/plain": [
              "<Figure size 432x288 with 2 Axes>"
            ]
          },
          "metadata": {
            "tags": [],
            "needs_background": "light"
          }
        }
      ]
    },
    {
      "cell_type": "code",
      "metadata": {
        "id": "TJE4qAzTIUyP",
        "colab_type": "code",
        "colab": {
          "base_uri": "https://localhost:8080/",
          "height": 312
        },
        "outputId": "0c8565c2-eda3-41ed-ea42-55cfbbfb8285"
      },
      "source": [
        "# Confusion Matrix for testing data\n",
        "\n",
        "cm=confusion_matrix(test_y, y_pred_test,labels=[1,0])\n",
        "ax= plt.subplot()\n",
        "sns.heatmap(cm, annot=True, ax = ax,fmt='g')\n",
        "# labels, title and ticks\n",
        "ax.set_xlabel('Predicted labels')\n",
        "ax.set_ylabel('True labels') \n",
        "ax.set_title('Confusion Matrix') \n",
        "ax.xaxis.set_ticklabels(['Covid', 'Normal'])\n",
        "ax.yaxis.set_ticklabels(['Covid','Normal'])\n",
        "# cm=confusion_matrix(y_target=test_y,y_predicted=y_pred_test)\n",
        "# fig,ax=plot_confusion_matrix(conf_mat=cm,cmap='Dark2',colorbar=True)\n",
        "# labels=['normal','covid']\n",
        "# ax.set_xticklabels([''] + labels)\n",
        "# ax.set_yticklabels([''] + labels)\n",
        "\n",
        "# plt.title('Confusion Matrix')\n",
        "# plt.show()"
      ],
      "execution_count": null,
      "outputs": [
        {
          "output_type": "execute_result",
          "data": {
            "text/plain": [
              "[Text(0, 0.5, 'Covid'), Text(0, 1.5, 'Normal')]"
            ]
          },
          "metadata": {
            "tags": []
          },
          "execution_count": 112
        },
        {
          "output_type": "display_data",
          "data": {
            "image/png": "[encoded data removed]",
            "text/plain": [
              "<Figure size 432x288 with 2 Axes>"
            ]
          },
          "metadata": {
            "tags": [],
            "needs_background": "light"
          }
        }
      ]
    },
    {
      "cell_type": "code",
      "metadata": {
        "id": "meBuxleKdkwi",
        "colab_type": "code",
        "colab": {
          "base_uri": "https://localhost:8080/",
          "height": 67
        },
        "outputId": "4f0c99cd-654d-4cd3-e30a-f8418bc89921"
      },
      "source": [
        "y_pred_test=pd.Series(y_pred_test)\n",
        "y_pred_test.value_counts()"
      ],
      "execution_count": null,
      "outputs": [
        {
          "output_type": "execute_result",
          "data": {
            "text/plain": [
              "1    570\n",
              "0    213\n",
              "dtype: int64"
            ]
          },
          "metadata": {
            "tags": []
          },
          "execution_count": 44
        }
      ]
    },
    {
      "cell_type": "code",
      "metadata": {
        "id": "TPSKnAzpYABW",
        "colab_type": "code",
        "colab": {
          "base_uri": "https://localhost:8080/",
          "height": 168
        },
        "outputId": "52487178-7b5c-4058-df5c-b36ae7a513f5"
      },
      "source": [
        "# Training Classification Report\n",
        "print(classification_report(train_y,y_pred_train))"
      ],
      "execution_count": null,
      "outputs": [
        {
          "output_type": "stream",
          "text": [
            "              precision    recall  f1-score   support\n",
            "\n",
            "           0       1.00      1.00      1.00       304\n",
            "           1       1.00      1.00      1.00       304\n",
            "\n",
            "    accuracy                           1.00       608\n",
            "   macro avg       1.00      1.00      1.00       608\n",
            "weighted avg       1.00      1.00      1.00       608\n",
            "\n"
          ],
          "name": "stdout"
        }
      ]
    },
    {
      "cell_type": "code",
      "metadata": {
        "id": "fhCtYtpg-cjn",
        "colab_type": "code",
        "colab": {
          "base_uri": "https://localhost:8080/",
          "height": 168
        },
        "outputId": "a4085e08-21a3-4b06-e4dd-acb88b5fe605"
      },
      "source": [
        "# Testing Classification Report\n",
        "print(classification_report(test_y,y_pred_test))"
      ],
      "execution_count": null,
      "outputs": [
        {
          "output_type": "stream",
          "text": [
            "              precision    recall  f1-score   support\n",
            "\n",
            "           0       1.00      0.91      0.95       234\n",
            "           1       0.96      1.00      0.98       549\n",
            "\n",
            "    accuracy                           0.97       783\n",
            "   macro avg       0.98      0.96      0.97       783\n",
            "weighted avg       0.97      0.97      0.97       783\n",
            "\n"
          ],
          "name": "stdout"
        }
      ]
    },
    {
      "cell_type": "code",
      "metadata": {
        "id": "F349fkgm-tkw",
        "colab_type": "code",
        "colab": {}
      },
      "source": [
        "# Checking the Cross Validation Score on Train Data\n",
        "scores_train = cross_val_score(classifier,train_x, train_y, cv=10,scoring='accuracy')"
      ],
      "execution_count": null,
      "outputs": []
    },
    {
      "cell_type": "code",
      "metadata": {
        "id": "-UakQy3OCwcx",
        "colab_type": "code",
        "colab": {}
      },
      "source": [
        "# Checking the Cross Validation Score on Test Data\n",
        "scores_test=cross_val_score(classifier,test_x,test_y,cv=10,scoring='accuracy')"
      ],
      "execution_count": null,
      "outputs": []
    },
    {
      "cell_type": "code",
      "metadata": {
        "id": "4ffNVScaC9hZ",
        "colab_type": "code",
        "colab": {}
      },
      "source": [
        "print('Mean Cross Validation Train Score:{}'.format(np.mean(scores_train)))\n",
        "print('Mean Cross Validation Test Score:{}'.format(np.mean(scores_test)))"
      ],
      "execution_count": null,
      "outputs": []
    }
  ]
}